{
 "cells": [
  {
   "cell_type": "markdown",
   "metadata": {},
   "source": [
    "# HP Inc. Coding Test\n",
    "### Instructions\n",
    "1. Duration of the test: 30 Minutes\n",
    "2. Provide a generalised solution to the problem. Means, your code should also work with new dataset\n",
    "3. You can answer the questions in any order of your choice"
   ]
  },
  {
   "cell_type": "markdown",
   "metadata": {},
   "source": [
    "#### Question 1: \n",
    "* Load the dataset 'dataset_01.csv'\n",
    "* Replace NULLs in 'Wickets' column with wickets taken by the lowest wicket taker of the team\n",
    "* Calculate 'Points' of each player, Points = Runs / ( sum(Runs * Wickets) group by country ) and print data frame\n",
    "* Identify and print the name of 'Man of the match' (Player with highest points)\n",
    "* Data and expected outputs are provided below"
   ]
  },
  {
   "cell_type": "code",
   "execution_count": 1,
   "metadata": {},
   "outputs": [
    {
     "name": "stdout",
     "output_type": "stream",
     "text": [
      "dataset_01: \n",
      "         Team  Player  Runs  Wickets\n",
      "0      India   Rohit    50      2.0\n",
      "1      India   Kohli    50      NaN\n",
      "2      India  Sachin    70      4.0\n",
      "3  Australia  Warner    40      3.0\n",
      "4  Australia   Smith    60      5.0\n",
      "5  Australia  Heyden    50      NaN \n",
      "\n",
      "\n",
      "Expected Output 1: \n",
      "         Team  Player  Runs  Wickets    Points\n",
      "0      India   Rohit    50      2.0  0.104167\n",
      "1      India   Kohli    50      2.0  0.104167\n",
      "2      India  Sachin    70      4.0  0.145833\n",
      "3  Australia  Warner    40      3.0  0.070175\n",
      "4  Australia   Smith    60      5.0  0.105263\n",
      "5  Australia  Heyden    50      3.0  0.087719 \n",
      "\n",
      "\n",
      "Expected Output 2:\n",
      "Man of the match:  Sachin\n"
     ]
    }
   ],
   "source": []
  },
  {
   "cell_type": "markdown",
   "metadata": {},
   "source": [
    "#### Question 2:\n",
    "* Load the dataset 'dataset_02.csv'\n",
    "* Based on the last character of each state's name, calculate average accidents\n",
    "* Data and expected output are provided below"
   ]
  },
  {
   "cell_type": "code",
   "execution_count": 2,
   "metadata": {},
   "outputs": [
    {
     "name": "stdout",
     "output_type": "stream",
     "text": [
      "dataset_02: \n",
      "             State  Accidents\n",
      "0       Karnataka         25\n",
      "1       Telangana         20\n",
      "2   Uttar Pradesh         30\n",
      "3     West Bengal         27\n",
      "4          Punjab         10\n",
      "5  Andhra Pradesh         15\n",
      "6        Gujarath         12 \n",
      "\n",
      "\n",
      "Expected Output: \n",
      "        Accidents\n",
      "State           \n",
      "A           22.5\n",
      "B           10.0\n",
      "H           19.0\n",
      "L           27.0\n"
     ]
    }
   ],
   "source": []
  },
  {
   "cell_type": "markdown",
   "metadata": {},
   "source": [
    "#### Question 3:\n",
    "* Load the dataset 'dataset_03.xlsx'\n",
    "* It contains 4 sheets 'Asia_Countries', 'Asia_Capitals', 'Europe_Countries' and 'Europe_Capitals'\n",
    "* Data in each sheet are displayed below\n",
    "* Understand the relationship among 4 sources and write code to get 'Expected Output' shown below."
   ]
  },
  {
   "cell_type": "code",
   "execution_count": 3,
   "metadata": {},
   "outputs": [
    {
     "name": "stdout",
     "output_type": "stream",
     "text": [
      "Sheet Name: Asia_Countries \n",
      "   Country_Code    Country\n",
      "0          SIN  Singapore\n",
      "1          IND      India\n",
      "2          CHN      China\n",
      "3          JPN      Japan\n",
      "4          IRN       Iran \n",
      "\n",
      "\n",
      "Sheet Name: Asia_Capitals \n",
      "   Country_Code    Capital\n",
      "0          SIN  Singapore\n",
      "1          IND  New Delhi\n",
      "2          CHN    Beijing\n",
      "3          JPN      Tokyo\n",
      "4          IRN     Tehran \n",
      "\n",
      "\n",
      "Sheet Name: Europe_Countries \n",
      "   Country_Code         Country\n",
      "0          ITL           Italy\n",
      "1           UK  United Kingdom\n",
      "2          NTH     Netherlands\n",
      "3          GER         Germany\n",
      "4          FRA          France \n",
      "\n",
      "\n",
      "Sheet Name: Europe_Capitals \n",
      "   Country_Code    Capital\n",
      "0          ITL       Rome\n",
      "1           UK     London\n",
      "2          NTH  The Hague\n",
      "3          GER     Berlin\n",
      "4          FRA      Paris \n",
      "\n",
      "\n",
      "Expected Output: \n",
      "   Country_Code         Country    Capital\n",
      "0          SIN       Singapore  Singapore\n",
      "1          IND           India  New Delhi\n",
      "2          CHN           China    Beijing\n",
      "3          JPN           Japan      Tokyo\n",
      "4          IRN            Iran     Tehran\n",
      "5          ITL           Italy       Rome\n",
      "6           UK  United Kingdom     London\n",
      "7          NTH     Netherlands  The Hague\n",
      "8          GER         Germany     Berlin\n",
      "9          FRA          France      Paris\n"
     ]
    }
   ],
   "source": []
  },
  {
   "cell_type": "code",
   "execution_count": null,
   "metadata": {},
   "outputs": [],
   "source": []
  }
 ],
 "metadata": {
  "kernelspec": {
   "display_name": "Python 3",
   "language": "python",
   "name": "python3"
  },
  "language_info": {
   "codemirror_mode": {
    "name": "ipython",
    "version": 3
   },
   "file_extension": ".py",
   "mimetype": "text/x-python",
   "name": "python",
   "nbconvert_exporter": "python",
   "pygments_lexer": "ipython3",
   "version": "3.7.3"
  }
 },
 "nbformat": 4,
 "nbformat_minor": 2
}
