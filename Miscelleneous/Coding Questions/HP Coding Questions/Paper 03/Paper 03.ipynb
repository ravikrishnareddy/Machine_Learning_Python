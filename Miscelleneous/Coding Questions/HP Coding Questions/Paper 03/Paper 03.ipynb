{
 "cells": [
  {
   "cell_type": "markdown",
   "metadata": {},
   "source": [
    "# HP Inc. Coding Test\n",
    "### Instructions\n",
    "1. Duration of the test: 30 Minutes\n",
    "2. Provide a generalised solution to the problem. Means, your code should also work with new dataset\n",
    "3. You can answer the questions in any order of your choice"
   ]
  },
  {
   "cell_type": "markdown",
   "metadata": {},
   "source": [
    "#### Question 1: \n",
    "* Load the dataset 'dataset_01.csv'\n",
    "* Consider last duplicate record as unique and delete remaining records\n",
    "* Create a new column 'Result' having product of length of country name and it's sales, and print the data frame\n",
    "* Data and expected output are displayed below"
   ]
  },
  {
   "cell_type": "code",
   "execution_count": 1,
   "metadata": {},
   "outputs": [
    {
     "name": "stdout",
     "output_type": "stream",
     "text": [
      "dataset_01: \n",
      "   Representative    Country    Capital  Sales(B)\n",
      "0          Abdul      India  New Delhi        10\n",
      "1          Tania      India  New Delhi        10\n",
      "2          Abdul  Australia   Canberra         5\n",
      "3          Tania  Australia   Canberra         5\n",
      "4          Abdul      China    Beijing        15\n",
      "5          Abdul     Russia     Moscow         9\n",
      "\n",
      "Expected output: \n",
      "   Representative    Country    Capital  Sales(B)  Result\n",
      "1          Tania      India  New Delhi        10      50\n",
      "3          Tania  Australia   Canberra         5      45\n",
      "4          Abdul      China    Beijing        15      75\n",
      "5          Abdul     Russia     Moscow         9      54\n"
     ]
    }
   ],
   "source": []
  },
  {
   "cell_type": "markdown",
   "metadata": {},
   "source": [
    "#### Question 2:\n",
    "* Load the dataset 'dataset_02.csv'\n",
    "* Replace day numbers with day names assuming Sunday = 0, Monday = 1, etc.\n",
    "* Calculate range of bread and butter quantities sold for each day number (range = max value - min value)\n",
    "* Sort the result based on Bread quantity range (descending) and Butter quantity range (ascending) and print the data frame\n",
    "* Also, print the Butter quantity range of the day having lowest Bread quantity range\n",
    "* Data and expected outputs are displayed below"
   ]
  },
  {
   "cell_type": "code",
   "execution_count": 2,
   "metadata": {},
   "outputs": [
    {
     "name": "stdout",
     "output_type": "stream",
     "text": [
      "dataset_02: \n",
      "         City  Day  Bread  Butter\n",
      "0  Hyderabad    1     15       5\n",
      "1  Hyderabad    2     15       6\n",
      "2  Hyderabad    3     18       6\n",
      "3  Hyderabad    4     20       7\n",
      "4  Hyderabad    5     10       5 \n",
      "\n",
      "\n",
      "Expected Output 1: \n",
      "\n",
      "          Day  Bread  Butter\n",
      "0   Saturday     11       4\n",
      "1   Thursday     10       5\n",
      "2     Sunday     10       6\n",
      "3  Wednesday      9       5\n",
      "4     Monday      8       5\n",
      "5    Tuesday      8       5\n",
      "6     Friday      6       5 \n",
      "\n",
      "\n",
      "Expected Output 2: \n",
      " 5\n"
     ]
    }
   ],
   "source": []
  },
  {
   "cell_type": "markdown",
   "metadata": {},
   "source": [
    "#### Question 3:\n",
    "* Load the dataset 'dataset_03.xlsx'\n",
    "* Convert the data frame from long to wide format and print the result\n",
    "* Sample data and expected output are displayed below"
   ]
  },
  {
   "cell_type": "code",
   "execution_count": 3,
   "metadata": {},
   "outputs": [
    {
     "name": "stdout",
     "output_type": "stream",
     "text": [
      "dataset_03: \n",
      "         City        Day  Accidents\n",
      "0  Hyderabad     Monday         15\n",
      "1  Hyderabad    Tuesday         15\n",
      "2  Hyderabad  Wednesday         18\n",
      "3  Hyderabad   Thursday         20\n",
      "4  Hyderabad     Friday         10 \n",
      "\n",
      "\n",
      "Expected Output: \n",
      "\n",
      "            Friday  Monday  Saturday  Sunday  Thursday  Tuesday  Wednesday\n",
      "City                                                                     \n",
      "Bangalore      13      18        28      23        23       18         21\n",
      "Hyderabad      10      15        25      20        20       15         18\n"
     ]
    }
   ],
   "source": []
  },
  {
   "cell_type": "code",
   "execution_count": null,
   "metadata": {},
   "outputs": [],
   "source": []
  }
 ],
 "metadata": {
  "kernelspec": {
   "display_name": "Python 3",
   "language": "python",
   "name": "python3"
  },
  "language_info": {
   "codemirror_mode": {
    "name": "ipython",
    "version": 3
   },
   "file_extension": ".py",
   "mimetype": "text/x-python",
   "name": "python",
   "nbconvert_exporter": "python",
   "pygments_lexer": "ipython3",
   "version": "3.7.3"
  }
 },
 "nbformat": 4,
 "nbformat_minor": 2
}
