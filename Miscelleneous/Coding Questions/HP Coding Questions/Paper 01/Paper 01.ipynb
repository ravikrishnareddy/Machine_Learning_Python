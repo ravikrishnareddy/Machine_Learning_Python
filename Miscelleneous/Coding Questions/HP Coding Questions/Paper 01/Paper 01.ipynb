{
 "cells": [
  {
   "cell_type": "markdown",
   "metadata": {},
   "source": [
    "# HP Inc. Coding Test\n",
    "### Instructions\n",
    "1. Duration of the test: 30 Minutes\n",
    "2. Provide a generalised solution to the problem. Means, your code should also work with new dataset\n",
    "3. You can answer the questions in any order of your choice"
   ]
  },
  {
   "cell_type": "markdown",
   "metadata": {},
   "source": [
    "#### Question 1: \n",
    "* Load the dataset 'dataset_01.csv'\n",
    "* Delete records having NULL in 'Company' column\n",
    "* Replace NULLs in 'Sales_2' column with average of all the values in it\n",
    "* Create a new column 'Max_Sales' and it should contain maximum of 'Sale_1' and 'Sale_2'\n",
    "* Data and expected output are provided below"
   ]
  },
  {
   "cell_type": "code",
   "execution_count": 1,
   "metadata": {},
   "outputs": [
    {
     "name": "stdout",
     "output_type": "stream",
     "text": [
      "dataset_01: \n",
      "        Date Company  Sales_1  Sales_2\n",
      "0  1/1/2020       A      250    300.0\n",
      "1  1/2/2020       A      150      NaN\n",
      "2  1/4/2020       A      500    600.0\n",
      "3  1/3/2020       A      350    270.0\n",
      "4  1/4/2020       A      500    600.0\n",
      "5  1/2/2020     NaN      250    300.0\n",
      "\n",
      "Expected output: \n",
      "        Date Company  Sales_1  Sales_2  Max_Sales\n",
      "0  1/1/2020       A      250    300.0      300.0\n",
      "1  1/2/2020       A      150    350.0      350.0\n",
      "2  1/4/2020       A      500    600.0      600.0\n",
      "3  1/3/2020       A      350    270.0      350.0\n",
      "4  1/4/2020       A      500    600.0      600.0\n"
     ]
    }
   ],
   "source": []
  },
  {
   "cell_type": "code",
   "execution_count": 1,
   "metadata": {},
   "outputs": [],
   "source": [
    "import pandas as pd"
   ]
  },
  {
   "cell_type": "code",
   "execution_count": 2,
   "metadata": {},
   "outputs": [
    {
     "name": "stdout",
     "output_type": "stream",
     "text": [
      "Expected output:\n",
      "        Date Company  Sales_1  Sales_2  Max_Sales\n",
      "0  1/1/2020       A      250    300.0      300.0\n",
      "1  1/2/2020       A      150    442.5      442.5\n",
      "2  1/4/2020       A      500    600.0      600.0\n",
      "3  1/3/2020       A      350    270.0      350.0\n",
      "4  1/4/2020       A      500    600.0      600.0\n"
     ]
    }
   ],
   "source": [
    "ds_01 = pd.read_csv('dataset_01.csv')\n",
    "ds_01.dropna(subset = ['Company'], inplace = True)\n",
    "ds_01.fillna(value = ds_01['Sales_2'].mean(), inplace = True)\n",
    "ds_01['Max_Sales'] = ds_01[['Sales_1', 'Sales_2']].max(axis = 1)\n",
    "print('Expected output:\\n', ds_01)"
   ]
  },
  {
   "cell_type": "markdown",
   "metadata": {},
   "source": [
    "#### Question 2:\n",
    "* Load the dataset 'dataset_02.csv'\n",
    "* Create a new column 'Username' having usernames (first letter must be capital) extracted from the url provided in 'URL' column\n",
    "* Data and expected output are provided below"
   ]
  },
  {
   "cell_type": "code",
   "execution_count": 2,
   "metadata": {},
   "outputs": [
    {
     "name": "stdout",
     "output_type": "stream",
     "text": [
      "dataset_02: \n",
      "                                          URL\n",
      "0           https://www.linkedin.com/prakash\n",
      "1          https://www.facebook.com/in/arjun\n",
      "2     https://www.myportal.in/home/asp/ahmed\n",
      "3  https://in.newportal.com/home/dep/d1/john\n",
      "\n",
      "Expected output: \n",
      "                                          URL Username\n",
      "0           https://www.linkedin.com/prakash  Prakash\n",
      "1          https://www.facebook.com/in/arjun    Arjun\n",
      "2     https://www.myportal.in/home/asp/ahmed    Ahmed\n",
      "3  https://in.newportal.com/home/dep/d1/john     John\n"
     ]
    }
   ],
   "source": []
  },
  {
   "cell_type": "code",
   "execution_count": 4,
   "metadata": {},
   "outputs": [
    {
     "name": "stdout",
     "output_type": "stream",
     "text": [
      "Expected output:\n",
      "                                          URL Username\n",
      "0           https://www.linkedin.com/prakash  Prakash\n",
      "1          https://www.facebook.com/in/arjun    Arjun\n",
      "2     https://www.myportal.in/home/asp/ahmed    Ahmed\n",
      "3  https://in.newportal.com/home/dep/d1/john     John\n"
     ]
    }
   ],
   "source": [
    "ds_02 = pd.read_csv('dataset_02.csv')\n",
    "ds_02['Username'] = ds_02['URL'].apply(lambda x:x[::-1][:x[::-1].index('/')][::-1].capitalize())\n",
    "print('Expected output:\\n', ds_02)"
   ]
  },
  {
   "cell_type": "markdown",
   "metadata": {},
   "source": [
    "#### Question 3:\n",
    "* Load the dataset 'dataset_03.xlsx'\n",
    "* It contains 4 sheets 'Asia_Countries', 'Asia_Capitals', 'Europe_Countries' and 'Europe_Capitals'\n",
    "* Data in each sheet and expected output are displayed below"
   ]
  },
  {
   "cell_type": "code",
   "execution_count": 3,
   "metadata": {},
   "outputs": [
    {
     "name": "stdout",
     "output_type": "stream",
     "text": [
      "Sheet Name: Asia_Countries \n",
      "   Country_Code    Country\n",
      "0          SIN  Singapore\n",
      "1          IND      India\n",
      "2          CHN      China\n",
      "3          JPN      Japan\n",
      "4          IRN       Iran \n",
      "\n",
      "\n",
      "Sheet Name: Asia_Capitals \n",
      "   Country_Code    Capital\n",
      "0          SIN  Singapore\n",
      "1          IND  New Delhi\n",
      "2          CHN    Beijing\n",
      "3          JPN      Tokyo\n",
      "4          IRN     Tehran \n",
      "\n",
      "\n",
      "Sheet Name: Europe_Countries \n",
      "   Country_Code         Country\n",
      "0          ITL           Italy\n",
      "1           UK  United Kingdom\n",
      "2          NTH     Netherlands\n",
      "3          GER         Germany\n",
      "4          FRA          France \n",
      "\n",
      "\n",
      "Sheet Name: Europe_Capitals \n",
      "   Country_Code    Capital\n",
      "0          ITL       Rome\n",
      "1           UK     London\n",
      "2          NTH  The Hague\n",
      "3          GER     Berlin\n",
      "4          FRA      Paris \n",
      "\n",
      "\n",
      "Expected Output: \n",
      "   Country_Code         Country    Capital\n",
      "0          SIN       Singapore  Singapore\n",
      "1          IND           India  New Delhi\n",
      "2          CHN           China    Beijing\n",
      "3          JPN           Japan      Tokyo\n",
      "4          IRN            Iran     Tehran\n",
      "5          ITL           Italy       Rome\n",
      "6           UK  United Kingdom     London\n",
      "7          NTH     Netherlands  The Hague\n",
      "8          GER         Germany     Berlin\n",
      "9          FRA          France      Paris\n"
     ]
    }
   ],
   "source": []
  },
  {
   "cell_type": "code",
   "execution_count": 4,
   "metadata": {},
   "outputs": [
    {
     "name": "stdout",
     "output_type": "stream",
     "text": [
      "Expected Output:\n",
      "   Country_Code         Country    Capital\n",
      "0          SIN       Singapore  Singapore\n",
      "1          IND           India  New Delhi\n",
      "2          CHN           China    Beijing\n",
      "3          JPN           Japan      Tokyo\n",
      "4          IRN            Iran     Tehran\n",
      "0          ITL           Italy       Rome\n",
      "1           UK  United Kingdom     London\n",
      "2          NTH     Netherlands  The Hague\n",
      "3          GER         Germany     Berlin\n",
      "4          FRA          France      Paris\n"
     ]
    }
   ],
   "source": [
    "Asia_Countries = pd.read_excel('dataset_03.xlsx', sheet_name = 'Asia_Countries')\n",
    "Asia_Capitals = pd.read_excel('dataset_03.xlsx', sheet_name = 'Asia_Capitals')\n",
    "Europe_Countries = pd.read_excel('dataset_03.xlsx', sheet_name = 'Europe_Countries')\n",
    "Europe_Capitals = pd.read_excel('dataset_03.xlsx', sheet_name = 'Europe_Capitals')\n",
    "\n",
    "Asia = pd.merge(Asia_Countries, Asia_Capitals, how = 'left', on = 'Country_Code')\n",
    "Europe = pd.merge(Europe_Countries, Europe_Capitals, how = 'left', on = 'Country_Code')\n",
    "\n",
    "print(\"Expected Output:\\n\",pd.concat([Asia, Europe]))"
   ]
  },
  {
   "cell_type": "code",
   "execution_count": null,
   "metadata": {},
   "outputs": [],
   "source": []
  }
 ],
 "metadata": {
  "kernelspec": {
   "display_name": "Python 3",
   "language": "python",
   "name": "python3"
  },
  "language_info": {
   "codemirror_mode": {
    "name": "ipython",
    "version": 3
   },
   "file_extension": ".py",
   "mimetype": "text/x-python",
   "name": "python",
   "nbconvert_exporter": "python",
   "pygments_lexer": "ipython3",
   "version": "3.9.1"
  }
 },
 "nbformat": 4,
 "nbformat_minor": 4
}
