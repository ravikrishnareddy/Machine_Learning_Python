{
 "cells": [
  {
   "cell_type": "code",
   "execution_count": 47,
   "id": "2e541e86-fac8-4bc8-ae63-d3899a1cb436",
   "metadata": {},
   "outputs": [],
   "source": [
    "import datetime\n",
    "import calendar\n",
    "import pandas as pd"
   ]
  },
  {
   "cell_type": "code",
   "execution_count": 71,
   "id": "fa289f31-8b63-4a20-bd85-bd4b114f238b",
   "metadata": {},
   "outputs": [],
   "source": [
    "def generate_sunday_of_weeks(start_date, end_date):\n",
    "    sundays = []\n",
    "    current_date = datetime.datetime.strptime(start_date, \"%Y-%m-%d\")\n",
    "    while current_date <= datetime.datetime.strptime(end_date, \"%Y-%m-%d\"):\n",
    "        if current_date.weekday() == calendar.SUNDAY:\n",
    "            sundays.append(current_date)\n",
    "        current_date += datetime.timedelta(days=1)\n",
    "    return pd.DataFrame({'sunday':1}, index=sundays)"
   ]
  },
  {
   "cell_type": "code",
   "execution_count": 77,
   "id": "123ab222-5681-4591-9db4-875f61c90879",
   "metadata": {},
   "outputs": [],
   "source": [
    "start_date = \"2015-01-04\"\n",
    "end_date = \"2023-10-08\"\n",
    "\n",
    "df_timeseries = generate_sunday_of_weeks(start_date=start_date, end_date=end_date)\n",
    "\n",
    "df_sales = pd.read_csv('50.csv')\n",
    "df_sales['date'] = df_sales['date'].apply(lambda x:datetime.datetime.strptime(x, \"%d-%b-%y\"))\n",
    "df_sales = df_sales.set_index('date').sort_index()\n",
    "missing_dates = pd.date_range(start=df_sales.index.min(), end=df_sales.index.max(), freq='D')\n",
    "missing_dates = missing_dates.difference(df_sales.index)\n",
    "new_index = pd.Index(missing_dates.append(df_sales.index))\n",
    "df_sales = df_sales.reindex(new_index).sort_index()\n",
    "df_sales = df_sales.fillna(method='ffill')\n",
    "\n",
    "df = df_sales.merge(df_timeseries, left_index=True, right_index=True, how='left').dropna().drop(columns='sunday')"
   ]
  },
  {
   "cell_type": "code",
   "execution_count": 102,
   "id": "d9591d24-347a-468d-a95d-1b05baea5b2b",
   "metadata": {},
   "outputs": [],
   "source": [
    "from darts import TimeSeries\n",
    "from darts.models import \n",
    "from darts.models import StatsForecastAutoTheta, RegressionModel"
   ]
  },
  {
   "cell_type": "code",
   "execution_count": 134,
   "id": "5130f904-eb3f-4bcf-851c-0e4b2303e624",
   "metadata": {},
   "outputs": [
    {
     "name": "stdout",
     "output_type": "stream",
     "text": [
      "MAPE: 3.37\n"
     ]
    }
   ],
   "source": [
    "df_train = df.loc['2015-01-04':'2021-12-26']\n",
    "\n",
    "df_test = df.loc['2022-01-02':]\n",
    "\n",
    "train_ts = TimeSeries.from_dataframe(df_train, value_cols=['weekly_rev'])\n",
    "test_ts = TimeSeries.from_dataframe(df_test, value_cols=['weekly_rev'])\n",
    "\n",
    "stats_model = StatsForecastAutoTheta()\n",
    "\n",
    "stats_model.fit(train_ts)\n",
    "\n",
    "predictions = stats_model.predict(n=79)\n",
    "\n",
    "mse = ds.metrics.mape(test_ts.head(len(predictions)), predictions)\n",
    "print(f\"MAPE: {mse:.2f}\")\n"
   ]
  },
  {
   "cell_type": "code",
   "execution_count": null,
   "id": "befe0f87-a8ca-4722-b6a0-007a5f755928",
   "metadata": {},
   "outputs": [],
   "source": []
  }
 ],
 "metadata": {
  "kernelspec": {
   "display_name": "Python 3 (ipykernel)",
   "language": "python",
   "name": "python3"
  },
  "language_info": {
   "codemirror_mode": {
    "name": "ipython",
    "version": 3
   },
   "file_extension": ".py",
   "mimetype": "text/x-python",
   "name": "python",
   "nbconvert_exporter": "python",
   "pygments_lexer": "ipython3",
   "version": "3.11.1"
  }
 },
 "nbformat": 4,
 "nbformat_minor": 5
}
