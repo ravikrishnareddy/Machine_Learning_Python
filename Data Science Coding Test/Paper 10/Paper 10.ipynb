{
 "cells": [
  {
   "cell_type": "markdown",
   "metadata": {},
   "source": [
    "# HP Inc. Coding Test\n",
    "### Instructions\n",
    "1. Duration of the test: 30 Minutes\n",
    "2. Provide a generalised solution to the problem. Means, your code should also work with new dataset\n",
    "3. You can answer the questions in any order of your choice"
   ]
  },
  {
   "cell_type": "markdown",
   "metadata": {},
   "source": [
    "#### Question 1: \n",
    "* Load the dataset 'dataset_01.csv'\n",
    "* Calculate range of bread quantities and butter quantities for each day (range = max quantity - minimum quantity)\n",
    "* Print results with day name instead of day number and sort data frame (Sunday to Saturday)\n",
    "* Data and expected outputs are provided below"
   ]
  },
  {
   "cell_type": "code",
   "execution_count": 1,
   "metadata": {},
   "outputs": [
    {
     "name": "stdout",
     "output_type": "stream",
     "text": [
      "dataset_01: (first 5 records) \n",
      "         City  Day  Bread  Butter\n",
      "0  Hyderabad    1     15       5\n",
      "1  Hyderabad    2     15       6\n",
      "2  Hyderabad    3     18       6\n",
      "3  Hyderabad    4     20       7\n",
      "4  Hyderabad    5     10       5 \n",
      "\n",
      "\n",
      "Expected Output: \n",
      "          Day  Bread  Butter\n",
      "3     Sunday     10       6\n",
      "1     Monday      8       5\n",
      "5    Tuesday      8       5\n",
      "6  Wednesday      9       5\n",
      "4   Thursday     10       5\n",
      "0     Friday      6       5\n",
      "2   Saturday     11       4\n"
     ]
    }
   ],
   "source": []
  },
  {
   "cell_type": "markdown",
   "metadata": {},
   "source": [
    "#### Question 2:\n",
    "* Load the dataset 'dataset_02.csv'\n",
    "* Assuming that the sales are same for 7 days (dates are in below cell), write code to get the expected output displayed below\n",
    "* Make sure that final data frame is sorted based on Account, SKU and Order_Date columns\n",
    "* Data and expected output are displayed below"
   ]
  },
  {
   "cell_type": "code",
   "execution_count": 2,
   "metadata": {},
   "outputs": [
    {
     "name": "stdout",
     "output_type": "stream",
     "text": [
      "dataset_02: \n",
      "          SKU  Account  Sales\n",
      "0    OJ 5260   Amazon     10\n",
      "1  LJP M404n  Walmart     20 \n",
      "\n",
      "\n",
      "Expected Output: \n",
      "           SKU  Account Sales  Order_Date\n",
      "0     OJ 5260   Amazon    10  2020-01-26\n",
      "1     OJ 5260   Amazon    10  2020-01-27\n",
      "2     OJ 5260   Amazon    10  2020-01-28\n",
      "3     OJ 5260   Amazon    10  2020-01-29\n",
      "4     OJ 5260   Amazon    10  2020-01-30\n",
      "5     OJ 5260   Amazon    10  2020-01-31\n",
      "6     OJ 5260   Amazon    10  2020-02-01\n",
      "7   LJP M404n  Walmart    20  2020-01-26\n",
      "8   LJP M404n  Walmart    20  2020-01-27\n",
      "9   LJP M404n  Walmart    20  2020-01-28\n",
      "10  LJP M404n  Walmart    20  2020-01-29\n",
      "11  LJP M404n  Walmart    20  2020-01-30\n",
      "12  LJP M404n  Walmart    20  2020-01-31\n",
      "13  LJP M404n  Walmart    20  2020-02-01\n"
     ]
    }
   ],
   "source": []
  },
  {
   "cell_type": "markdown",
   "metadata": {},
   "source": [
    "#### Question 3:\n",
    "* Load the dataset 'dataset_03.xlsx'\n",
    "* It contains 4 sheets 'Asia_Countries', 'Asia_Capitals', 'Europe_Countries' and 'Europe_Capitals'\n",
    "* Data in each sheet are displayed below\n",
    "* Understand the relationship among 4 sources and write code to get 'Expected Output' shown below."
   ]
  },
  {
   "cell_type": "code",
   "execution_count": 3,
   "metadata": {},
   "outputs": [
    {
     "name": "stdout",
     "output_type": "stream",
     "text": [
      "dataset: asia_countries \n",
      "   Country_Code    Country\n",
      "0          SIN  Singapore\n",
      "1          IND      India\n",
      "2          CHN      China\n",
      "3          JPN      Japan\n",
      "4          IRN       Iran \n",
      "\n",
      "\n",
      "dataset: asia_capitals \n",
      "   Country_Code    Capital\n",
      "0          SIN  Singapore\n",
      "1          IND  New Delhi\n",
      "2          CHN    Beijing\n",
      "3          JPN      Tokyo\n",
      "4          IRN     Tehran \n",
      "\n",
      "\n",
      "dataset: europe_countries \n",
      "   Country_Code         Country\n",
      "0          ITL           Italy\n",
      "1           UK  United Kingdom\n",
      "2          NTH     Netherlands\n",
      "3          GER         Germany\n",
      "4          FRA          France \n",
      "\n",
      "\n",
      "dataset: europe_capitals \n",
      "   Country_Code    Capital\n",
      "0          ITL       Rome\n",
      "1           UK     London\n",
      "2          NTH  The Hague\n",
      "3          GER     Berlin\n",
      "4          FRA      Paris \n",
      "\n",
      "\n",
      "Expected Output: \n",
      "   Country_Code         Country    Capital\n",
      "0          SIN       Singapore  Singapore\n",
      "1          IND           India  New Delhi\n",
      "2          CHN           China    Beijing\n",
      "3          JPN           Japan      Tokyo\n",
      "4          IRN            Iran     Tehran\n",
      "5          ITL           Italy       Rome\n",
      "6           UK  United Kingdom     London\n",
      "7          NTH     Netherlands  The Hague\n",
      "8          GER         Germany     Berlin\n",
      "9          FRA          France      Paris\n"
     ]
    }
   ],
   "source": []
  },
  {
   "cell_type": "code",
   "execution_count": null,
   "metadata": {},
   "outputs": [],
   "source": []
  }
 ],
 "metadata": {
  "kernelspec": {
   "display_name": "Python 3",
   "language": "python",
   "name": "python3"
  },
  "language_info": {
   "codemirror_mode": {
    "name": "ipython",
    "version": 3
   },
   "file_extension": ".py",
   "mimetype": "text/x-python",
   "name": "python",
   "nbconvert_exporter": "python",
   "pygments_lexer": "ipython3",
   "version": "3.7.3"
  }
 },
 "nbformat": 4,
 "nbformat_minor": 2
}
