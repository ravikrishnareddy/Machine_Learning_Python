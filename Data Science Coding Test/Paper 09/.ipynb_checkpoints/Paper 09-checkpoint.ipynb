{
 "cells": [
  {
   "cell_type": "markdown",
   "metadata": {},
   "source": [
    "# HP Inc. Coding Test\n",
    "### Instructions\n",
    "1. Duration of the test: 30 Minutes\n",
    "2. Provide a generalised solution to the problem. Means, your code should also work with new dataset\n",
    "3. You can answer the questions in any order of your choice"
   ]
  },
  {
   "cell_type": "markdown",
   "metadata": {},
   "source": [
    "#### Question 1: \n",
    "* Load the dataset 'dataset_01.csv'\n",
    "* Create a new column 'price_in_crores' (price_in_crores = (cyl x disp x hp) / 100000)\n",
    "* Delete all columns from data frame except 'car' and 'price_in_crores'. Print first 6 rows of result\n",
    "* Identify and print top 5 costliest brands along with the value of their costliest car in descending order (brand = first word of car name)\n",
    "* Data and expected outputs are provided below"
   ]
  },
  {
   "cell_type": "code",
   "execution_count": 1,
   "metadata": {},
   "outputs": [
    {
     "name": "stdout",
     "output_type": "stream",
     "text": [
      "dataset_01: (first 5 records) \n",
      "\n"
     ]
    },
    {
     "data": {
      "text/html": [
       "<div>\n",
       "<style scoped>\n",
       "    .dataframe tbody tr th:only-of-type {\n",
       "        vertical-align: middle;\n",
       "    }\n",
       "\n",
       "    .dataframe tbody tr th {\n",
       "        vertical-align: top;\n",
       "    }\n",
       "\n",
       "    .dataframe thead th {\n",
       "        text-align: right;\n",
       "    }\n",
       "</style>\n",
       "<table border=\"1\" class=\"dataframe\">\n",
       "  <thead>\n",
       "    <tr style=\"text-align: right;\">\n",
       "      <th></th>\n",
       "      <th>car</th>\n",
       "      <th>mpg</th>\n",
       "      <th>cyl</th>\n",
       "      <th>disp</th>\n",
       "      <th>hp</th>\n",
       "      <th>drat</th>\n",
       "      <th>wt</th>\n",
       "      <th>qsec</th>\n",
       "      <th>vs</th>\n",
       "      <th>am</th>\n",
       "      <th>gear</th>\n",
       "      <th>carb</th>\n",
       "    </tr>\n",
       "  </thead>\n",
       "  <tbody>\n",
       "    <tr>\n",
       "      <th>0</th>\n",
       "      <td>Mazda RX4</td>\n",
       "      <td>21.0</td>\n",
       "      <td>6</td>\n",
       "      <td>160.0</td>\n",
       "      <td>110</td>\n",
       "      <td>3.90</td>\n",
       "      <td>2.620</td>\n",
       "      <td>16.46</td>\n",
       "      <td>0</td>\n",
       "      <td>1</td>\n",
       "      <td>4</td>\n",
       "      <td>4</td>\n",
       "    </tr>\n",
       "    <tr>\n",
       "      <th>1</th>\n",
       "      <td>Mazda RX4 Wag</td>\n",
       "      <td>21.0</td>\n",
       "      <td>6</td>\n",
       "      <td>160.0</td>\n",
       "      <td>110</td>\n",
       "      <td>3.90</td>\n",
       "      <td>2.875</td>\n",
       "      <td>17.02</td>\n",
       "      <td>0</td>\n",
       "      <td>1</td>\n",
       "      <td>4</td>\n",
       "      <td>4</td>\n",
       "    </tr>\n",
       "    <tr>\n",
       "      <th>2</th>\n",
       "      <td>Datsun 710</td>\n",
       "      <td>22.8</td>\n",
       "      <td>4</td>\n",
       "      <td>108.0</td>\n",
       "      <td>93</td>\n",
       "      <td>3.85</td>\n",
       "      <td>2.320</td>\n",
       "      <td>18.61</td>\n",
       "      <td>1</td>\n",
       "      <td>1</td>\n",
       "      <td>4</td>\n",
       "      <td>1</td>\n",
       "    </tr>\n",
       "    <tr>\n",
       "      <th>3</th>\n",
       "      <td>Hornet 4 Drive</td>\n",
       "      <td>21.4</td>\n",
       "      <td>6</td>\n",
       "      <td>258.0</td>\n",
       "      <td>110</td>\n",
       "      <td>3.08</td>\n",
       "      <td>3.215</td>\n",
       "      <td>19.44</td>\n",
       "      <td>1</td>\n",
       "      <td>0</td>\n",
       "      <td>3</td>\n",
       "      <td>1</td>\n",
       "    </tr>\n",
       "    <tr>\n",
       "      <th>4</th>\n",
       "      <td>Hornet Sportabout</td>\n",
       "      <td>18.7</td>\n",
       "      <td>8</td>\n",
       "      <td>360.0</td>\n",
       "      <td>175</td>\n",
       "      <td>3.15</td>\n",
       "      <td>3.440</td>\n",
       "      <td>17.02</td>\n",
       "      <td>0</td>\n",
       "      <td>0</td>\n",
       "      <td>3</td>\n",
       "      <td>2</td>\n",
       "    </tr>\n",
       "  </tbody>\n",
       "</table>\n",
       "</div>"
      ],
      "text/plain": [
       "                 car   mpg  cyl   disp   hp  drat     wt   qsec  vs  am  gear  \\\n",
       "0          Mazda RX4  21.0    6  160.0  110  3.90  2.620  16.46   0   1     4   \n",
       "1      Mazda RX4 Wag  21.0    6  160.0  110  3.90  2.875  17.02   0   1     4   \n",
       "2         Datsun 710  22.8    4  108.0   93  3.85  2.320  18.61   1   1     4   \n",
       "3     Hornet 4 Drive  21.4    6  258.0  110  3.08  3.215  19.44   1   0     3   \n",
       "4  Hornet Sportabout  18.7    8  360.0  175  3.15  3.440  17.02   0   0     3   \n",
       "\n",
       "   carb  \n",
       "0     4  \n",
       "1     4  \n",
       "2     1  \n",
       "3     1  \n",
       "4     2  "
      ]
     },
     "metadata": {},
     "output_type": "display_data"
    },
    {
     "name": "stdout",
     "output_type": "stream",
     "text": [
      "\n",
      "\n",
      "\n",
      "Expected Output 1: \n",
      "                  car  price_in_crores\n",
      "0          Mazda RX4              1.1\n",
      "1      Mazda RX4 Wag              1.1\n",
      "2         Datsun 710              0.4\n",
      "3     Hornet 4 Drive              1.7\n",
      "4  Hornet Sportabout              5.0 \n",
      "\n",
      "\n",
      "Expected Output 2: \n",
      "           price_in_crores\n",
      "brand                    \n",
      "Chrysler              8.1\n",
      "Maserati              8.1\n",
      "Lincoln               7.9\n",
      "Cadillac              7.7\n",
      "Ford                  7.4\n"
     ]
    }
   ],
   "source": []
  },
  {
   "cell_type": "markdown",
   "metadata": {},
   "source": [
    "#### Question 2:\n",
    "* Load the dataset 'dataset_02.csv'\n",
    "* Convert 'Cases_Deaths' column into two columns Cases and Deaths (use sum for aggregation) and print results\n",
    "* Sample data and expected output are displayed below"
   ]
  },
  {
   "cell_type": "code",
   "execution_count": 2,
   "metadata": {},
   "outputs": [
    {
     "name": "stdout",
     "output_type": "stream",
     "text": [
      "dataset_02: (head) \n",
      "   Country Continent Cases_Deaths  Cases_Deaths_Count\n",
      "0  Guinea    Africa        Cases              2776.0\n",
      "1  Guinea    Africa        Cases              2775.0\n",
      "2  Guinea    Africa        Cases              2769.0\n",
      "3  Guinea    Africa        Cases                 NaN\n",
      "4  Guinea    Africa        Cases              2730.0 \n",
      "\n",
      "\n",
      "Expected Output: \n",
      "         Country Continent     Cases   Deaths\n",
      "0        Guinea    Africa   84729.0  51818.0\n",
      "1       Liberia    Africa  193833.0  89198.0\n",
      "2          Mali    Africa      42.0     38.0\n",
      "3       Nigeria    Africa     636.0    233.0\n",
      "4       Senegal    Africa      27.0      0.0\n",
      "5   SierraLeone    Africa  211181.0  60352.0\n",
      "6         Spain    Europe      16.0      3.0\n",
      "7  UnitedStates        US      59.0     15.0 \n",
      "\n",
      "\n"
     ]
    }
   ],
   "source": []
  },
  {
   "cell_type": "markdown",
   "metadata": {},
   "source": [
    "#### Question 3:\n",
    "* Load the dataset 'dataset_03.xlsx'\n",
    "* Calculate new column 'Max_Sales' having maximum of Sale_1 and Sales_2 in each observation\n",
    "* Data and expected output are displayed below"
   ]
  },
  {
   "cell_type": "code",
   "execution_count": 4,
   "metadata": {},
   "outputs": [
    {
     "name": "stdout",
     "output_type": "stream",
     "text": [
      "dataset_03: \n",
      "        Date Company  Sales_1  Sales_2\n",
      "0  1/1/2020       A      250      300\n",
      "1  1/2/2020       A      150      100\n",
      "2  1/3/2020       A      350      270\n",
      "3  1/4/2020       A      500      600\n",
      "\n",
      "Expected output: \n",
      "        Date Company  Sales_1  Sales_2  Max_Sales\n",
      "0  1/1/2020       A      250      300        300\n",
      "1  1/2/2020       A      150      100        150\n",
      "2  1/3/2020       A      350      270        350\n",
      "3  1/4/2020       A      500      600        600\n"
     ]
    }
   ],
   "source": []
  },
  {
   "cell_type": "code",
   "execution_count": null,
   "metadata": {},
   "outputs": [],
   "source": []
  }
 ],
 "metadata": {
  "kernelspec": {
   "display_name": "Python 3",
   "language": "python",
   "name": "python3"
  },
  "language_info": {
   "codemirror_mode": {
    "name": "ipython",
    "version": 3
   },
   "file_extension": ".py",
   "mimetype": "text/x-python",
   "name": "python",
   "nbconvert_exporter": "python",
   "pygments_lexer": "ipython3",
   "version": "3.7.3"
  }
 },
 "nbformat": 4,
 "nbformat_minor": 2
}
