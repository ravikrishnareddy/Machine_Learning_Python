{
 "cells": [
  {
   "cell_type": "markdown",
   "metadata": {},
   "source": [
    "# HP Inc. Coding Test\n",
    "### Instructions\n",
    "1. Duration of the test: 30 Minutes\n",
    "2. Provide a generalised solution to the problem. Means, your code should also work with new dataset\n",
    "3. You can answer the questions in any order of your choice"
   ]
  },
  {
   "cell_type": "markdown",
   "metadata": {},
   "source": [
    "#### Question 1: \n",
    "* Load the dataset 'dataset_01.csv'\n",
    "* Fill NULL values with 0\n",
    "* Create a column 'Tota_Score' (Verbal_Score + Quant_Score) and print the data frame\n",
    "* Calculate minimum Verbal_Score, maximum Quant_Score and average total score for each Country\n",
    "* Print the data frame\n",
    "* Sample Data and expected outputs are provided below"
   ]
  },
  {
   "cell_type": "code",
   "execution_count": 1,
   "metadata": {},
   "outputs": [
    {
     "name": "stdout",
     "output_type": "stream",
     "text": [
      "dataset_01: \n",
      "   Country Candidate  Verbal_Score  Quant_Score\n",
      "0     USA    Robert         160.0        155.0\n",
      "1     USA      Hugh         162.0        160.0\n",
      "2     USA   Marcela           NaN        158.0\n",
      "3     USA     Julia         159.0        160.0\n",
      "4     USA  Jennifer         164.0        165.0 \n",
      "\n",
      "\n",
      "Expected Output 1: \n",
      "   Country Candidate  Verbal_Score  Quant_Score  Total_Score\n",
      "0     USA    Robert         160.0        155.0        315.0\n",
      "1     USA      Hugh         162.0        160.0        322.0\n",
      "2     USA   Marcela           0.0        158.0        158.0\n",
      "3     USA     Julia         159.0        160.0        319.0\n",
      "4     USA  Jennifer         164.0        165.0        329.0 \n",
      "\n",
      "\n",
      "Expected Output 2: \n",
      "          Verbal_Score  Quant_Score  Total_Score\n",
      "Country                                        \n",
      "CANADA          155.0        162.0   277.250000\n",
      "INDIA             0.0        169.0   293.571429\n",
      "USA               0.0        165.0   288.600000\n"
     ]
    }
   ],
   "source": []
  },
  {
   "cell_type": "markdown",
   "metadata": {},
   "source": [
    "#### Question 2:\n",
    "* Given a list of numbers, calculate and print the sum of even numbers and odd numbers WITHOUT using FOR LOOP\n",
    "* Data and expected output are displayed below"
   ]
  },
  {
   "cell_type": "code",
   "execution_count": 3,
   "metadata": {
    "scrolled": true
   },
   "outputs": [
    {
     "name": "stdout",
     "output_type": "stream",
     "text": [
      "Input: 11, 6, 13, 27, 5, 18\n",
      "Sum of even numbers: 24\n",
      "Sum of odd numbers: 56\n"
     ]
    }
   ],
   "source": []
  },
  {
   "cell_type": "markdown",
   "metadata": {},
   "source": [
    "#### Question 3:\n",
    "* Load the dataset 'dataset_03.xlsx'\n",
    "* Write code to get output matching 'Expected Output' shown below"
   ]
  },
  {
   "cell_type": "code",
   "execution_count": 4,
   "metadata": {},
   "outputs": [
    {
     "name": "stdout",
     "output_type": "stream",
     "text": [
      "Input: \n",
      "   Country Continent Cases_Deaths  Cases_Deaths_Count\n",
      "0  Guinea    Africa        Cases              2776.0\n",
      "1  Guinea    Africa        Cases              2775.0\n",
      "2  Guinea    Africa        Cases              2769.0\n",
      "3  Guinea    Africa        Cases                 NaN\n",
      "4  Guinea    Africa        Cases              2730.0 \n",
      "\n",
      "\n",
      "Expected Output: \n",
      "         Country Continent     Cases   Deaths\n",
      "0        Guinea    Africa   84729.0  51818.0\n",
      "1       Liberia    Africa  193833.0  89198.0\n",
      "2          Mali    Africa      42.0     38.0\n",
      "3       Nigeria    Africa     636.0    233.0\n",
      "4       Senegal    Africa      27.0      0.0\n",
      "5   SierraLeone    Africa  211181.0  60352.0\n",
      "6         Spain    Europe      16.0      3.0\n",
      "7  UnitedStates        US      59.0     15.0\n"
     ]
    }
   ],
   "source": []
  },
  {
   "cell_type": "code",
   "execution_count": null,
   "metadata": {},
   "outputs": [],
   "source": []
  }
 ],
 "metadata": {
  "kernelspec": {
   "display_name": "Python 3",
   "language": "python",
   "name": "python3"
  },
  "language_info": {
   "codemirror_mode": {
    "name": "ipython",
    "version": 3
   },
   "file_extension": ".py",
   "mimetype": "text/x-python",
   "name": "python",
   "nbconvert_exporter": "python",
   "pygments_lexer": "ipython3",
   "version": "3.7.3"
  }
 },
 "nbformat": 4,
 "nbformat_minor": 2
}
