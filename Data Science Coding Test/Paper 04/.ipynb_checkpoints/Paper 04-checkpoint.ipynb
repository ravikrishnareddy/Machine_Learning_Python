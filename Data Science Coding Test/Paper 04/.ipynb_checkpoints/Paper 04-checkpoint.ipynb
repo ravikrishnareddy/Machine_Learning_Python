{
 "cells": [
  {
   "cell_type": "markdown",
   "metadata": {},
   "source": [
    "# HP Inc. Coding Test\n",
    "### Instructions\n",
    "1. Duration of the test: 30 Minutes\n",
    "2. Provide a generalised solution to the problem. Means, your code should also work with new dataset\n",
    "3. You can answer the questions in any order of your choice"
   ]
  },
  {
   "cell_type": "markdown",
   "metadata": {},
   "source": [
    "#### Question 1: \n",
    "* Load the dataset 'dataset_01.csv'\n",
    "* Convert it from long to wide format and print the data frame\n",
    "* Change values in the data frame: Subtract 10 from the value if it is less than or equal to 20 else subtract 20\n",
    "* Print the final data frame\n",
    "* Data and expected outputs are displayed below"
   ]
  },
  {
   "cell_type": "code",
   "execution_count": 1,
   "metadata": {},
   "outputs": [
    {
     "name": "stdout",
     "output_type": "stream",
     "text": [
      "dataset_01: \n",
      "          City        Day  Accidents\n",
      "0   Hyderabad     Monday         15\n",
      "1   Hyderabad     Monday         25\n",
      "2   Hyderabad    Tuesday         15\n",
      "3   Hyderabad  Wednesday         18\n",
      "4   Hyderabad   Thursday         20\n",
      "5   Hyderabad     Friday         10\n",
      "6   Hyderabad   Saturday         25\n",
      "7   Hyderabad     Sunday         20\n",
      "8   Bangalore     Monday         18\n",
      "9   Bangalore     Monday          6\n",
      "10  Bangalore    Tuesday         18\n",
      "11  Bangalore  Wednesday         21\n",
      "12  Bangalore   Thursday         23\n",
      "13  Bangalore     Friday         13\n",
      "14  Bangalore   Saturday         28\n",
      "15  Bangalore     Sunday         23 \n",
      "\n",
      "\n",
      "Expected output 1: \n",
      "           Accidents                                                  \n",
      "Day          Friday Monday Saturday Sunday Thursday Tuesday Wednesday\n",
      "City                                                                 \n",
      "Bangalore        13     12       28     23       23      18        21\n",
      "Hyderabad        10     20       25     20       20      15        18 \n",
      "\n",
      "\n",
      "Expected output 2: \n",
      "           Accidents                                                  \n",
      "Day          Friday Monday Saturday Sunday Thursday Tuesday Wednesday\n",
      "City                                                                 \n",
      "Bangalore         3      2        8      3        3       8         1\n",
      "Hyderabad         0     10        5     10       10       5         8\n"
     ]
    }
   ],
   "source": []
  },
  {
   "cell_type": "markdown",
   "metadata": {},
   "source": [
    "#### Question 2:\n",
    "* Load the dataset 'dataset_02.csv'\n",
    "* Assuming that the sales are same for 7 days (dates are in below cell), write code to get the expected output displayed below\n",
    "* Make sure that final data frame is sorted based on Account, SKU and Order_Date columns\n",
    "* Data and expected output are displayed below"
   ]
  },
  {
   "cell_type": "code",
   "execution_count": 2,
   "metadata": {},
   "outputs": [
    {
     "name": "stdout",
     "output_type": "stream",
     "text": [
      "dataset_02: \n",
      "          SKU  Account  Sales\n",
      "0    OJ 5260   Amazon     10\n",
      "1  LJP M404n  Walmart     20 \n",
      "\n",
      "\n",
      "Expected Output: \n",
      "           SKU  Account Sales  Order_Date\n",
      "0     OJ 5260   Amazon    10  2020-01-26\n",
      "1     OJ 5260   Amazon    10  2020-01-27\n",
      "2     OJ 5260   Amazon    10  2020-01-28\n",
      "3     OJ 5260   Amazon    10  2020-01-29\n",
      "4     OJ 5260   Amazon    10  2020-01-30\n",
      "5     OJ 5260   Amazon    10  2020-01-31\n",
      "6     OJ 5260   Amazon    10  2020-02-01\n",
      "7   LJP M404n  Walmart    20  2020-01-26\n",
      "8   LJP M404n  Walmart    20  2020-01-27\n",
      "9   LJP M404n  Walmart    20  2020-01-28\n",
      "10  LJP M404n  Walmart    20  2020-01-29\n",
      "11  LJP M404n  Walmart    20  2020-01-30\n",
      "12  LJP M404n  Walmart    20  2020-01-31\n",
      "13  LJP M404n  Walmart    20  2020-02-01\n"
     ]
    }
   ],
   "source": [
    "'2020-01-28', '2020-01-31', '2020-01-26', '2020-01-29', '2020-01-27', '2020-02-01', '2020-01-30'"
   ]
  },
  {
   "cell_type": "markdown",
   "metadata": {},
   "source": [
    "#### Question 3:\n",
    "* Load the dataset 'dataset_03.xlsx'\n",
    "* Create a new column 'Mean_Sales' having average sales quantity for each day\n",
    "* Also, create another column 'Sales_Ratio' that displays the ratio of mean sales to overall sale ( mean_sales / sum(mean_sales) )\n",
    "* Print the final data frame\n",
    "* Also, print the date having maximum sales ratio\n",
    "* Data and expected outputs are displayed below"
   ]
  },
  {
   "cell_type": "code",
   "execution_count": 3,
   "metadata": {},
   "outputs": [
    {
     "name": "stdout",
     "output_type": "stream",
     "text": [
      "Input: \n",
      "        Date Company  Sales_1  Sales_2\n",
      "0  1/1/2020       A      250      300\n",
      "1  1/2/2020       A      150      100\n",
      "2  1/3/2020       A      350      270\n",
      "3  1/4/2020       A      500      600\n",
      "\n",
      "Expected output: 1 \n",
      "        Date Company  Sales_1  Sales_2  Mean_Sales  Sales_Ratio\n",
      "0  1/1/2020       A      250      300       275.0     0.236220\n",
      "1  1/2/2020       A      150      100       125.0     0.078740\n",
      "2  1/3/2020       A      350      270       310.0     0.212598\n",
      "3  1/4/2020       A      500      600       550.0     0.472441 \n",
      "\n",
      "\n",
      "Expected output: 2 \n",
      " 1/4/2020\n"
     ]
    }
   ],
   "source": []
  },
  {
   "cell_type": "code",
   "execution_count": null,
   "metadata": {},
   "outputs": [],
   "source": []
  }
 ],
 "metadata": {
  "kernelspec": {
   "display_name": "Python 3",
   "language": "python",
   "name": "python3"
  },
  "language_info": {
   "codemirror_mode": {
    "name": "ipython",
    "version": 3
   },
   "file_extension": ".py",
   "mimetype": "text/x-python",
   "name": "python",
   "nbconvert_exporter": "python",
   "pygments_lexer": "ipython3",
   "version": "3.7.3"
  }
 },
 "nbformat": 4,
 "nbformat_minor": 2
}
