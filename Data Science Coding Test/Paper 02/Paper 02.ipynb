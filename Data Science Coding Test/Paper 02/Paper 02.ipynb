{
 "cells": [
  {
   "cell_type": "markdown",
   "metadata": {},
   "source": [
    "# HP Inc. Coding Test\n",
    "### Instructions\n",
    "1. Duration of the test: 30 Minutes\n",
    "2. Provide a generalised solution to the problem. Means, your code should also work with new dataset\n",
    "3. You can answer the questions in any order of your choice"
   ]
  },
  {
   "cell_type": "markdown",
   "metadata": {},
   "source": [
    "#### Question 1: \n",
    "* Load the dataset 'dataset_01.csv'\n",
    "* Print maximum sales for each Company\n",
    "* Data and expected output are displayed below"
   ]
  },
  {
   "cell_type": "code",
   "execution_count": 1,
   "metadata": {},
   "outputs": [
    {
     "name": "stdout",
     "output_type": "stream",
     "text": [
      "Input: \n",
      "        Date Company  Sales_1  Sales_2\n",
      "0  1/1/2020       A      250      300\n",
      "1  1/2/2020       A      150      100\n",
      "2  1/1/2020       B      350      270\n",
      "3  1/2/2020       B      500      600\n",
      "\n",
      "Expected output: \n",
      "   Company  Max_Sales\n",
      "0       A        300\n",
      "1       B        600\n"
     ]
    }
   ],
   "source": []
  },
  {
   "cell_type": "code",
   "execution_count": 5,
   "metadata": {},
   "outputs": [],
   "source": [
    "import pandas as pd\n",
    "import datetime as dt"
   ]
  },
  {
   "cell_type": "code",
   "execution_count": 4,
   "metadata": {},
   "outputs": [
    {
     "name": "stdout",
     "output_type": "stream",
     "text": [
      "Expected output:\n",
      "   Company  Max_Sales\n",
      "0       A        300\n",
      "1       B        600\n"
     ]
    }
   ],
   "source": [
    "ds_01 = pd.read_csv('dataset_01.csv', parse_dates = ['Date'])\n",
    "ds_01['Max_Sales'] = ds_01[['Sales_1', 'Sales_2']].max(axis = 1)\n",
    "ds_01 = ds_01.groupby('Company')['Max_Sales'].max()\n",
    "ds_01 = ds_01.reset_index()\n",
    "print(\"Expected output:\\n\", ds_01)"
   ]
  },
  {
   "cell_type": "markdown",
   "metadata": {},
   "source": [
    "#### Question 2:\n",
    "* Load the dataset 'dataset_02.csv'\n",
    "* Create new column 'Days' having duration (in days) between Start_Date and End_Date and print data frame\n",
    "* Data and expected output are provided below"
   ]
  },
  {
   "cell_type": "code",
   "execution_count": 2,
   "metadata": {},
   "outputs": [
    {
     "name": "stdout",
     "output_type": "stream",
     "text": [
      "Input: \n",
      "   Start_Date   End_Date        SKU   Account\n",
      "0 2020-01-26 2020-02-01    OJ 5260    Amazon\n",
      "1 2020-01-20 2020-02-01  LJP M404n  Best Buy\n",
      "2 2020-01-25 2020-01-27    OJ 6260    Amazon\n",
      "3 2020-01-10 2020-01-30    LJE 234   Walmart \n",
      "\n",
      "\n",
      "Expected output: \n",
      "   Start_Date   End_Date        SKU   Account  Days\n",
      "0 2020-01-26 2020-02-01    OJ 5260    Amazon     6\n",
      "1 2020-01-20 2020-02-01  LJP M404n  Best Buy    12\n",
      "2 2020-01-25 2020-01-27    OJ 6260    Amazon     2\n",
      "3 2020-01-10 2020-01-30    LJE 234   Walmart    20\n"
     ]
    }
   ],
   "source": []
  },
  {
   "cell_type": "code",
   "execution_count": 9,
   "metadata": {},
   "outputs": [
    {
     "name": "stdout",
     "output_type": "stream",
     "text": [
      "Expected output:\n",
      "   Start_Date   End_Date        SKU   Account  Days\n",
      "0 2020-01-26 2020-02-01    OJ 5260    Amazon     6\n",
      "1 2020-01-20 2020-02-01  LJP M404n  Best Buy    12\n",
      "2 2020-01-25 2020-01-27    OJ 6260    Amazon     2\n",
      "3 2020-01-10 2020-01-30    LJE 234   Walmart    20\n"
     ]
    }
   ],
   "source": [
    "ds_02 = pd.read_csv('dataset_02.csv', parse_dates = ['Start_Date', 'End_Date'])\n",
    "\n",
    "ds_02['Days'] = ds_02['End_Date'] - ds_02['Start_Date']\n",
    "ds_02['Days'] = ds_02['Days'].dt.days\n",
    "print(\"Expected output:\\n\",ds_02)"
   ]
  },
  {
   "cell_type": "markdown",
   "metadata": {},
   "source": [
    "#### Question 3:\n",
    "* Load the dataset 'dataset_03.xlsx'\n",
    "* Remove observations having NULLs in 'Cases_Deaths_Count' column\n",
    "* Convert data from long format to wide format, calculate total number cases and deaths for each combination of Country and Continent, and print the results\n",
    "* Also, print sum of 'Cases' and average of 'Deaths' for each 'Continent'\n",
    "* Sample data and expected outputs are displayed below"
   ]
  },
  {
   "cell_type": "code",
   "execution_count": 3,
   "metadata": {},
   "outputs": [
    {
     "name": "stdout",
     "output_type": "stream",
     "text": [
      "Input: \n",
      "   Country Continent Cases_Deaths  Cases_Deaths_Count\n",
      "0  Guinea    Africa        Cases              2776.0\n",
      "1  Guinea    Africa        Cases              2775.0\n",
      "2  Guinea    Africa        Cases              2769.0\n",
      "3  Guinea    Africa        Cases                 NaN\n",
      "4  Guinea    Africa        Cases              2730.0 \n",
      "\n",
      "\n",
      "Expected Output 1: \n",
      "         Country Continent     Cases   Deaths\n",
      "0        Guinea    Africa   84729.0  51818.0\n",
      "1       Liberia    Africa  193833.0  89198.0\n",
      "2          Mali    Africa      42.0     38.0\n",
      "3       Nigeria    Africa     636.0    233.0\n",
      "4       Senegal    Africa      27.0      0.0\n",
      "5   SierraLeone    Africa  211181.0  60352.0\n",
      "6         Spain    Europe      16.0      3.0\n",
      "7  UnitedStates        US      59.0     15.0 \n",
      "\n",
      "\n",
      "Expected Output 2: \n",
      "               Cases   Deaths\n",
      "Continent                   \n",
      "Africa     490448.0  33606.5\n",
      "Europe         16.0      3.0\n",
      "US             59.0     15.0\n"
     ]
    }
   ],
   "source": []
  },
  {
   "cell_type": "code",
   "execution_count": 93,
   "metadata": {},
   "outputs": [
    {
     "name": "stdout",
     "output_type": "stream",
     "text": [
      "Expected output 1:\n",
      "         Country Continent     Cases   Deaths\n",
      "0        Guinea    Africa   84729.0  51818.0\n",
      "1       Liberia    Africa  193833.0  89198.0\n",
      "2          Mali    Africa      42.0     38.0\n",
      "3       Nigeria    Africa     636.0    233.0\n",
      "4       Senegal    Africa      27.0      0.0\n",
      "5   SierraLeone    Africa  211181.0  60352.0\n",
      "6         Spain    Europe      16.0      3.0\n",
      "7  UnitedStates        US      59.0     15.0\n",
      "Expected outptu 2:\n",
      "               Cases   Deaths\n",
      "Continent                   \n",
      "Africa     490448.0  33606.5\n",
      "Europe         16.0      3.0\n",
      "US             59.0     15.0\n"
     ]
    }
   ],
   "source": [
    "ds_03 = pd.read_csv('dataset_03.csv')\n",
    "ds_03.dropna(subset = ['Cases_Deaths_Count'], inplace = True)\n",
    "ds_03 = pd.pivot_table(data = ds_03, index = ['Country', 'Continent'], columns = ['Cases_Deaths'], values = ['Cases_Deaths_Count'], aggfunc='sum')\n",
    "ds_03 = ds_03['Cases_Deaths_Count'].reset_index()\n",
    "ds_03.columns.name = None\n",
    "print(\"Expected output 1:\\n\",ds_03)\n",
    "\n",
    "ds_03 = ds_03.groupby('Continent').agg({'Cases':'sum','Deaths':'mean'})\n",
    "print(\"Expected outptu 2:\\n\",ds_03)"
   ]
  },
  {
   "cell_type": "code",
   "execution_count": null,
   "metadata": {},
   "outputs": [],
   "source": []
  }
 ],
 "metadata": {
  "kernelspec": {
   "display_name": "Python 3",
   "language": "python",
   "name": "python3"
  },
  "language_info": {
   "codemirror_mode": {
    "name": "ipython",
    "version": 3
   },
   "file_extension": ".py",
   "mimetype": "text/x-python",
   "name": "python",
   "nbconvert_exporter": "python",
   "pygments_lexer": "ipython3",
   "version": "3.9.1"
  }
 },
 "nbformat": 4,
 "nbformat_minor": 4
}
