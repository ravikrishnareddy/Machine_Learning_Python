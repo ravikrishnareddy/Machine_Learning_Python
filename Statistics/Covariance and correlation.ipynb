{
 "cells": [
  {
   "cell_type": "markdown",
   "metadata": {},
   "source": [
    "What is covariance?\n",
    "* Measure of statistical relationship between two variables\n",
    "* Formula: cov(X, Y) = (sum (x - mean(X)) * (y - mean(Y)) ) * 1/(n-1)\n",
    "* Disadvantage: Hard to interpret the strength of the relationship\n",
    "\n",
    "What is correlation?\n",
    "* Measure of statistical relationship between two variables\n",
    "* Types: pearson correlation and spearman correlation\n",
    "\n",
    "What is pearson correlation?\n",
    "* Measure of linear relationship between two variables\n",
    "* Formula: covariance(X, Y) / (stdv(X) * stdv(Y))\n",
    "* Disadvantage: Cannot measure for non-linear relationships\n",
    "\n",
    "What is spearman correlation?\n",
    "* Measure of linear and non-linear relationship between two variables\n",
    "* Formula: covariance(rank(X), rank(Y)) / (stdv(rank(X)) * stdv(rank(Y)))\n",
    "* Disadvantage: Cannot measure linear relationship as accurately as pearson correlation\n",
    "\n",
    "Which python functions to use?\n",
    "* Pearson correlation: scipy.stats.pearsonr()\n",
    "* spearman correlation: scipy.stats.spearmanr()\n"
   ]
  },
  {
   "cell_type": "code",
   "execution_count": 1,
   "metadata": {},
   "outputs": [],
   "source": [
    "import numpy as np\n",
    "from scipy.stats import pearsonr, spearmanr"
   ]
  },
  {
   "cell_type": "code",
   "execution_count": 14,
   "metadata": {},
   "outputs": [
    {
     "name": "stdout",
     "output_type": "stream",
     "text": [
      "pearson correlation: 0.89\n"
     ]
    }
   ],
   "source": [
    "np.random.seed(1)\n",
    "data1 = 20*np.random.randn(1000) + 100\n",
    "data2 = data1 + (10*np.random.randn(1000) + 50)\n",
    "\n",
    "corr, _ = pearsonr(data1, data2)\n",
    "print('pearson correlation: %.2f' % corr)"
   ]
  },
  {
   "cell_type": "code",
   "execution_count": 16,
   "metadata": {},
   "outputs": [
    {
     "name": "stdout",
     "output_type": "stream",
     "text": [
      "spearman correlation: 0.87\n"
     ]
    }
   ],
   "source": [
    "corr, _ = spearmanr(data1, data2)\n",
    "print('spearman correlation: %.2f' % corr)"
   ]
  }
 ],
 "metadata": {
  "kernelspec": {
   "display_name": "Python 3",
   "language": "python",
   "name": "python3"
  },
  "language_info": {
   "codemirror_mode": {
    "name": "ipython",
    "version": 3
   },
   "file_extension": ".py",
   "mimetype": "text/x-python",
   "name": "python",
   "nbconvert_exporter": "python",
   "pygments_lexer": "ipython3",
   "version": "3.9.1"
  }
 },
 "nbformat": 4,
 "nbformat_minor": 4
}
